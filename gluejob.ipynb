{
 "cells": [
  {
   "cell_type": "code",
   "execution_count": 1,
   "metadata": {},
   "outputs": [],
   "source": [
    "import os\n",
    "import json\n",
    "import pandas as pd\n",
    "import configparser\n",
    "from pyspark.sql import SparkSession\n",
    "from pyspark.sql.functions import col, lit, avg, count, round"
   ]
  },
  {
   "cell_type": "code",
   "execution_count": 2,
   "metadata": {},
   "outputs": [],
   "source": [
    "def get_aws_credentials(profile='default'):\n",
    "    \n",
    "    config = configparser.ConfigParser()\n",
    "    config.read(os.path.expanduser('~/.aws/credentials'))\n",
    "    \n",
    "    access_key = config[profile]['aws_access_key_id']\n",
    "    secret_key = config[profile]['aws_secret_access_key']\n",
    "    \n",
    "    return access_key, secret_key\n",
    "\n",
    "aws_access_key, aws_secret_key = get_aws_credentials()"
   ]
  },
  {
   "cell_type": "code",
   "execution_count": 3,
   "metadata": {},
   "outputs": [],
   "source": [
    "config = configparser.ConfigParser()\n",
    "config.read(os.path.expanduser('~/etc/strava/config.conf'))\n",
    "BUCKET_NAME = config['S3']['BUCKET_NAME']"
   ]
  },
  {
   "cell_type": "code",
   "execution_count": 5,
   "metadata": {},
   "outputs": [],
   "source": [
    "# Initialize SparkSession\n",
    "spark = SparkSession.builder\\\n",
    "    .appName(\"ReadProcessedDataFromS3\") \\\n",
    "    .config(\"spark.hadoop.fs.s3a.impl\", \"org.apache.hadoop.fs.s3a.S3AFileSystem\") \\\n",
    "    .config(\"spark.hadoop.fs.s3a.aws.credentials.provider\", \"org.apache.hadoop.fs.s3a.SimpleAWSCredentialsProvider\") \\\n",
    "    .config(\"spark.hadoop.fs.s3a.access.key\", aws_access_key) \\\n",
    "    .config(\"spark.hadoop.fs.s3a.secret.key\", aws_secret_key) \\\n",
    "    .config(\"spark.hadoop.fs.s3a.endpoint\", \"s3.amazonaws.com\") \\\n",
    "    .getOrCreate()\n",
    "\n",
    "# Define S3 path for processed folder\n",
    "s3_bucket = f\"s3a://{BUCKET_NAME}/processed/\"\n",
    "activities_json = \"activities.json\"\n",
    "activities_path = s3_bucket + activities_json\n",
    "# Load JSON (or CSV) data from S3 processed folder into a DataFrame\n",
    "# Modify 'json' to your file format (e.g., 'csv', 'parquet', etc.)\n",
    "activities = spark.read.json(activities_path)"
   ]
  },
  {
   "cell_type": "code",
   "execution_count": 7,
   "metadata": {},
   "outputs": [
    {
     "name": "stdout",
     "output_type": "stream",
     "text": [
      "+-----------------+-------------+-------------+---------------+-----------------+-------------+-------------+-------------+-------+------------+-----------------------------+--------+------------+---------+--------+--------------------+--------------------+-------+-----------------+---------+-------------+----------+-----------------+-----------+----------+-----------+-------------+----------------+--------------+------+--------------------+-------------+---------+---------+-----------+--------------------+-----------+--------+-------+--------------+----------+--------------------+--------------------+--------------------+----------------+--------------------+--------------------+-----------------+-------+----+-----------+-------------+----------+----------+----------------------+------------+\n",
      "|achievement_count|      athlete|athlete_count|average_cadence|average_heartrate|average_speed|average_watts|comment_count|commute|device_watts|display_hide_heartrate_option|distance|elapsed_time|elev_high|elev_low|          end_latlng|         external_id|flagged|from_accepted_tag|  gear_id|has_heartrate|has_kudoed|heartrate_opt_out|         id|kilojoules|kudos_count|location_city|location_country|location_state|manual|                 map|max_heartrate|max_speed|max_watts|moving_time|                name|photo_count|pr_count|private|resource_state|sport_type|          start_date|    start_date_local|        start_latlng|steps_per_minute|            timezone|total_elevation_gain|total_photo_count|trainer|type|  upload_id|upload_id_str|utc_offset|visibility|weighted_average_watts|workout_type|\n",
      "+-----------------+-------------+-------------+---------------+-----------------+-------------+-------------+-------------+-------+------------+-----------------------------+--------+------------+---------+--------+--------------------+--------------------+-------+-----------------+---------+-------------+----------+-----------------+-----------+----------+-----------+-------------+----------------+--------------+------+--------------------+-------------+---------+---------+-----------+--------------------+-----------+--------+-------+--------------+----------+--------------------+--------------------+--------------------+----------------+--------------------+--------------------+-----------------+-------+----+-----------+-------------+----------+----------+----------------------+------------+\n",
      "|                0|{39181721, 1}|            4|           87.9|            132.4|          8.0|        339.0|            0|  false|        true|                         true|    3.26|       24.27|     35.4|    -1.3|[33.607649, -117....|garmin_ping_38423...|  false|            false|g13734365|         true|     false|            false|12852696787|     493.6|          4|         NULL|            NULL|          NULL| false|{a12852696787, 2,...|        144.0|     10.2|      477|      24.27| Newport Run Club 28|          0|       0|  false|             2|       Run|2024-11-08T14:39:56Z|2024-11-08T06:39:56Z|[33.607977, -117....|           176.0|(GMT-08:00) Ameri...|                45.9|                0|  false| Run|13704996664|  13704996664|  -28800.0|  everyone|                   337|           0|\n",
      "|               14|{39181721, 1}|            1|           87.7|            138.8|          5.5|        262.8|            3|  false|        true|                         true|   11.25|      126.47|   2110.2|   214.6|[34.049517, -118....|garmin_ping_38398...|  false|            false|g18524723|         true|     false|            false|12845301916|    1934.3|          9|         NULL|            NULL|          NULL| false|{a12845301916, 2,...|        154.0|      9.2|      467|     122.83|Topanga Canyon ft...|          0|       2|  false|             2|  TrailRun|2024-11-07T13:35:52Z|2024-11-07T05:35:52Z|[34.050042, -118....|           175.0|(GMT-08:00) Ameri...|              2857.6|                2|  false| Run|13697049575|  13697049575|  -28800.0|  everyone|                   277|           0|\n",
      "|                1|{39181721, 1}|            1|           86.5|            132.0|          7.5|        317.7|            0|  false|        true|                         true|    8.25|       71.23|     55.1|    -1.3|[33.665849, -118....|garmin_ping_38372...|  false|            false|g13734365|         true|     false|            false|12837361690|    1251.8|          7|         NULL|            NULL|          NULL| false|{a12837361690, 2,...|        153.0|     10.2|      406|      65.67|MGS: Sons of Liberty|          0|       0|  false|             2|       Run|2024-11-06T14:05:05Z|2024-11-06T06:05:05Z|[33.665626, -118....|           173.0|(GMT-08:00) Ameri...|               150.9|                0|  false| Run|13688538097|  13688538097|  -28800.0|  everyone|                   308|           0|\n",
      "|                1|{39181721, 1}|            1|           88.9|            136.3|          8.7|        388.8|            0|  false|        true|                         true|    3.01|       38.22|     90.6|   -51.2|[33.682012, -117....|garmin_ping_38357...|  false|            false|g13734365|         true|     false|            false|12833384861|     486.6|          8|         NULL|            NULL|          NULL| false|{a12833384861, 2,...|        155.0|     11.9|     1058|      20.83|       Election 🇺🇸|          0|       0|  false|             2|       Run|2024-11-06T00:27:54Z|2024-11-05T16:27:54Z|[33.682204, -117....|           178.0|(GMT-08:00) Ameri...|               255.9|                1|  false| Run|13684235360|  13684235360|  -28800.0|  everyone|                   375|           0|\n",
      "|               11|{39181721, 1}|            1|           86.9|            136.6|          6.2|        277.6|            0|  false|        true|                         true|   10.75|      107.22|   1030.2|   327.4|[33.605818, -117....|garmin_ping_38346...|  false|            false|g18524723|         true|     false|            false|12829286587|    1746.4|          7|         NULL|            NULL|          NULL| false|{a12829286587, 2,...|        147.0|      9.0|      423|     104.83|Overlooked Single...|          0|       0|  false|             2|  TrailRun|2024-11-05T13:42:03Z|2024-11-05T05:42:03Z|[33.605835, -117....|           174.0|(GMT-08:00) Ameri...|              1630.6|                0|  false| Run|13679897201|  13679897201|  -28800.0|  everyone|                   284|           0|\n",
      "|                4|{39181721, 1}|            1|           86.1|            136.1|          6.1|        277.3|            0|  false|        true|                         true|    10.0|      100.27|   1017.1|    34.8|[33.605773, -117....|garmin_ping_38319...|  false|            false|g18524723|         true|     false|            false|12821367196|    1630.0|          9|         NULL|            NULL|          NULL| false|{a12821367196, 2,...|        150.0|      8.6|      449|       98.0|~~~Windy~~~ - Cry...|          0|       0|  false|             2|  TrailRun|2024-11-04T13:50:05Z|2024-11-04T05:50:05Z|[33.605778, -117....|           172.0|(GMT-08:00) Ameri...|              1633.9|                1|  false| Run|13671426100|  13671426100|  -28800.0|  everyone|                   283|           0|\n",
      "|               11|{39181721, 1}|            1|           83.9|            135.0|          6.1|        271.5|            1|  false|        true|                         true|    9.51|       98.72|   1794.6|   750.0|[34.128642, -118....|garmin_ping_38265...|  false|            false|g16451183|         true|     false|            false|12805461540|    1483.9|         12|         NULL|            NULL|          NULL| false|{a12805461540, 2,...|        157.0|     11.7|      523|      94.07|Jocko Made Me Do ...|          0|       8|  false|             2|  TrailRun|2024-11-02T13:06:18Z|2024-11-02T06:06:18Z|[34.128886, -118....|           168.0|(GMT-08:00) Ameri...|              1492.8|                1|  false| Run|13654257563|  13654257563|  -25200.0|  everyone|                   289|           0|\n",
      "|               11|{39181721, 1}|            1|           87.9|            152.1|          6.6|        300.2|            0|  false|        true|                         true|     9.0|        83.2|   1020.3|   163.4|[33.605803, -117....|garmin_ping_38238...|  false|            false|g18813048|         true|     false|            false|12797348904|    1468.1|          8|         NULL|            NULL|          NULL| false|{a12797348904, 2,...|        179.0|     10.4|      479|       81.5|The Hunt - Crysta...|          0|       5|  false|             2|  TrailRun|2024-11-01T13:05:06Z|2024-11-01T06:05:06Z|[33.605806, -117....|           176.0|(GMT-08:00) Ameri...|              1551.8|                0|  false| Run|13645522842|  13645522842|  -25200.0|  everyone|                   311|           0|\n",
      "|                0|{39181721, 1}|            1|           84.4|            143.6|          4.5|        231.5|            0|  false|        true|                         true|    7.61|      110.03|   3486.2|   960.6|[34.169653, -118....|garmin_ping_38213...|  false|            false|g18813048|         true|     false|            false|12789777667|    1395.0|          8|         NULL|            NULL|          NULL| false|{a12789777667, 2,...|        172.0|      9.9|      548|     102.33|Eye-Candy, A Tast...|          0|       0|  false|             2|  TrailRun|2024-10-31T12:40:02Z|2024-10-31T05:40:02Z|[34.170797, -118....|           169.0|(GMT-08:00) Ameri...|              3087.3|                3|  false| Run|13637343597|  13637343597|  -25200.0|  everyone|                   258|           0|\n",
      "|               13|{39181721, 1}|            1|           88.0|            132.2|          6.7|        299.0|            0|  false|        true|                         true|    7.01|       62.42|    990.8|   596.5|[33.60575, -117.8...|garmin_ping_38186...|  false|            false|g18813048|         true|     false|            false|12781735307|    1117.4|         13|         NULL|            NULL|          NULL| false|{a12781735307, 2,...|        143.0|     10.0|      495|      62.28|Point Arena, CA ➡...|          0|       9|  false|             2|  TrailRun|2024-10-30T13:02:43Z|2024-10-30T06:02:43Z|[33.605662, -117....|           176.0|(GMT-08:00) Ameri...|              1082.7|                0|  false| Run|13628713759|  13628713759|  -25200.0|  everyone|                   313|           0|\n",
      "|                0|{39181721, 1}|            1|           86.1|            135.1|          8.3|        360.2|            2|  false|        true|                         true|    4.01|        30.7|     37.4|   -68.2|[33.682425, -117....|garmin_ping_38161...|  false|            false|g13734365|         true|     false|            false|12773664557|     623.6|          7|         NULL|            NULL|          NULL| false|{a12773664557, 2,...|        148.0|     10.9|      425|      28.83|      I Don’t Get It|          0|       0|  false|             2|       Run|2024-10-29T14:10:19Z|2024-10-29T07:10:19Z|[33.682157, -117....|           172.0|(GMT-08:00) Ameri...|               124.7|                0|  false| Run|13620091366|  13620091366|  -25200.0|  everyone|                   353|           0|\n",
      "|                1|{39181721, 1}|            1|           68.8|            101.5|          4.3|         NULL|            0|  false|        NULL|                         true|     3.5|       48.67|   1019.7|   673.9|[33.605796, -117....|garmin_ping_38134...|  false|            false|g18813048|         true|     false|            false|12765498193|      NULL|          8|         NULL|            NULL|          NULL| false|{a12765498193, 2,...|        121.0|      9.1|     NULL|      48.55|A Super Rare Cond...|          0|       1|  false|             2|  TrailRun|2024-10-28T13:52:05Z|2024-10-28T06:52:05Z|[33.605795, -117....|           138.0|(GMT-08:00) Ameri...|               524.9|                0|  false| Run|13611315173|  13611315173|  -25200.0|  everyone|                  NULL|           0|\n",
      "|                4|{39181721, 1}|            1|           84.8|            133.2|          5.3|        246.1|            0|  false|        true|                         true|     4.5|       51.43|   1021.0|   652.2|[33.6058124061673...|garmin_ping_37951...|  false|            false|g18813048|         true|     false|            false|12709068786|     750.3|          8|         NULL|            NULL|          NULL| false|{a12709068786, 2,...|        146.0|      7.3|      389|       50.8|Ticketron - Cryst...|          0|       0|  false|             2|  TrailRun|2024-10-21T13:55:04Z|2024-10-21T06:55:04Z|[33.6058178544044...|           170.0|(GMT-08:00) Ameri...|               652.9|                0|  false| Run|13550500665|  13550500665|  -25200.0|  everyone|                   252|           0|\n",
      "|                0|{39181721, 1}|            1|           84.3|            134.8|          6.3|        275.9|            0|  false|        true|                         true|    20.0|      194.58|    717.8|   213.9|[33.0666119512170...|garmin_ping_37901...|  false|            false|g18524723|         true|     false|            false|12694585465|    3134.8|          9|         NULL|            NULL|          NULL| false|{a12694585465, 2,...|        160.0|     10.0|      540|     189.28|      RDL Simulation|          0|       0|  false|             2|  TrailRun|2024-10-19T13:30:19Z|2024-10-19T06:30:19Z|[33.0665702931582...|           169.0|(GMT-08:00) Ameri...|              1761.8|                1|  false| Run|13534838327|  13534838327|  -25200.0|  everyone|                   280|           0|\n",
      "|                0|{39181721, 1}|            1|           83.4|            130.0|          5.8|        258.6|            1|  false|        true|                         true|    8.75|       92.92|   1035.4|   148.3|[33.6057367175817...|garmin_ping_37873...|  false|            false|g18813048|         true|     false|            false|12685575342|    1411.8|         11|         NULL|            NULL|          NULL| false|{a12685575342, 2,...|        146.0|      8.6|      445|      90.95|Drone Delivery - ...|          0|       0|  false|             2|  TrailRun|2024-10-18T13:20:31Z|2024-10-18T06:20:31Z|[33.6058129090815...|           167.0|(GMT-08:00) Ameri...|              1371.4|                0|  false| Run|13525161475|  13525161475|  -25200.0|  everyone|                   265|           0|\n",
      "|                0|{39181721, 1}|            1|           83.8|            143.0|          4.9|        235.8|            0|  false|        true|                         true|     9.1|       118.8|   1249.3|    48.6|[34.0351888071745...|garmin_ping_37848...|  false|            false|g18813048|         true|     false|            false|12677863264|    1556.0|          9|         NULL|            NULL|          NULL| false|{a12677863264, 2,...|        169.0|      9.9|      394|     111.25| The Real Scare Maze|          0|       0|  false|             2|  TrailRun|2024-10-17T12:49:05Z|2024-10-17T05:49:05Z|[34.0351993683725...|           168.0|(GMT-08:00) Ameri...|              2299.9|                5|  false| Run|13516904375|  13516904375|  -25200.0|  everyone|                   247|           0|\n",
      "|                9|{39181721, 1}|            1|           84.4|            147.7|          4.8|        237.9|            0|  false|        true|                         true|    12.1|      155.43|   3381.9|   937.0|[34.1763921920210...|garmin_ping_37796...|  false|            false|g18524723|         true|     false|            false|12661837376|    2162.2|         11|         NULL|            NULL|          NULL| false|{a12661837376, 2,...|        173.0|      9.2|      571|     151.83|Random Reflection...|          0|       0|  false|             2|  TrailRun|2024-10-15T12:44:46Z|2024-10-15T05:44:46Z|[34.1763008292764...|           169.0|(GMT-08:00) Ameri...|              3418.6|                4|  false| Run|13499816528|  13499816528|  -25200.0|  everyone|                   262|           0|\n",
      "|                0|{39181721, 1}|            1|           82.4|            126.8|          5.7|        258.6|            1|  false|        true|                         true|   10.01|      106.55|   1005.9|    31.5|[33.6057292576879...|garmin_ping_37770...|  false|            false|g18524723|         true|     false|            false|12653634986|    1642.2|          9|         NULL|            NULL|          NULL| false|{a12653634986, 2,...|        137.0|      8.6|      389|     105.82|Self-Diagnosis Lo...|          0|       0|  false|             2|  TrailRun|2024-10-14T13:15:14Z|2024-10-14T06:15:14Z|[33.6057699099183...|           165.0|(GMT-08:00) Ameri...|              1555.1|                0|  false| Run|13491029485|  13491029485|  -25200.0|  everyone|                   266|           0|\n",
      "|                2|{39181721, 1}|            1|           83.3|            142.5|          6.6|        297.1|            1|  false|        true|                         true|    8.01|       99.12|   1037.4|   732.9|[33.6031037941575...|garmin_ping_37720...|  false|            false|g18813048|         true|     false|            false|12638886966|    1297.7|         10|         NULL|            NULL|          NULL| false|{a12638886966, 2,...|        172.0|      8.8|      613|       73.1|The Real Missing ...|          0|       0|  false|             2|  TrailRun|2024-10-12T15:10:24Z|2024-10-12T08:10:24Z|[33.6032224819064...|           167.0|(GMT-08:00) Ameri...|              1063.0|                0|  false| Run|13475076989|  13475076989|  -25200.0|  everyone|                   292|           0|\n",
      "|                0|{39181721, 1}|            1|           83.3|            128.4|          6.3|        281.2|            1|  false|        true|                         true|     6.6|       165.4|   1018.4|   778.2|[33.6058759409934...|garmin_ping_37706...|  false|            false|g18524723|         true|     false|            false|12633727617|    1062.5|          8|         NULL|            NULL|          NULL| false|{a12633727617, 2,...|        158.0|      9.0|      413|      63.12|Camp & Caamp - Cr...|          0|       0|  false|             2|  TrailRun|2024-10-12T01:37:54Z|2024-10-11T18:37:54Z|[33.6058021802455...|           167.0|(GMT-08:00) Ameri...|               744.8|                4|  false| Run|13469480704|  13469480704|  -25200.0|  everyone|                   282|           0|\n",
      "+-----------------+-------------+-------------+---------------+-----------------+-------------+-------------+-------------+-------+------------+-----------------------------+--------+------------+---------+--------+--------------------+--------------------+-------+-----------------+---------+-------------+----------+-----------------+-----------+----------+-----------+-------------+----------------+--------------+------+--------------------+-------------+---------+---------+-----------+--------------------+-----------+--------+-------+--------------+----------+--------------------+--------------------+--------------------+----------------+--------------------+--------------------+-----------------+-------+----+-----------+-------------+----------+----------+----------------------+------------+\n",
      "only showing top 20 rows\n",
      "\n"
     ]
    }
   ],
   "source": [
    "activities.show()"
   ]
  },
  {
   "cell_type": "code",
   "execution_count": null,
   "metadata": {},
   "outputs": [
    {
     "name": "stdout",
     "output_type": "stream",
     "text": [
      "+-----------------+-------------+-------------+---------------+-----------------+-------------+-------------+-------------+-------+------------+-----------------------------+--------+------------+---------+--------+--------------------+--------------------+-------+-----------------+---------+-------------+----------+-----------------+-----------+----------+-----------+-------------+----------------+--------------+------+--------------------+-------------+---------+---------+-----------+--------------------+-----------+--------+-------+--------------+----------+--------------------+--------------------+--------------------+----------------+--------------------+--------------------+-----------------+-------+----+-----------+-------------+----------+----------+----------------------+------------+\n",
      "|achievement_count|      athlete|athlete_count|average_cadence|average_heartrate|average_speed|average_watts|comment_count|commute|device_watts|display_hide_heartrate_option|distance|elapsed_time|elev_high|elev_low|          end_latlng|         external_id|flagged|from_accepted_tag|  gear_id|has_heartrate|has_kudoed|heartrate_opt_out|         id|kilojoules|kudos_count|location_city|location_country|location_state|manual|                 map|max_heartrate|max_speed|max_watts|moving_time|                name|photo_count|pr_count|private|resource_state|sport_type|          start_date|    start_date_local|        start_latlng|steps_per_minute|            timezone|total_elevation_gain|total_photo_count|trainer|type|  upload_id|upload_id_str|utc_offset|visibility|weighted_average_watts|workout_type|\n",
      "+-----------------+-------------+-------------+---------------+-----------------+-------------+-------------+-------------+-------+------------+-----------------------------+--------+------------+---------+--------+--------------------+--------------------+-------+-----------------+---------+-------------+----------+-----------------+-----------+----------+-----------+-------------+----------------+--------------+------+--------------------+-------------+---------+---------+-----------+--------------------+-----------+--------+-------+--------------+----------+--------------------+--------------------+--------------------+----------------+--------------------+--------------------+-----------------+-------+----+-----------+-------------+----------+----------+----------------------+------------+\n",
      "|               13|{39181721, 1}|            1|           88.0|            132.2|          6.7|        299.0|            0|  false|        true|                         true|    7.01|       62.42|    990.8|   596.5|[33.60575, -117.8...|garmin_ping_38186...|  false|            false|g18813048|         true|     false|            false|12781735307|    1117.4|          9|         NULL|            NULL|          NULL| false|{a12781735307, 2,...|        143.0|     10.0|      495|      62.28|Point Arena, CA ➡...|          0|       9|  false|             2|  TrailRun|2024-10-30T13:02:43Z|2024-10-30T06:02:43Z|[33.605662, -117....|           176.0|(GMT-08:00) Ameri...|              1082.7|                0|  false| Run|13628713759|  13628713759|  -25200.0|  everyone|                   313|           0|\n",
      "|                1|{39181721, 1}|            1|           68.8|            101.5|          4.3|         NULL|            0|  false|        NULL|                         true|     3.5|       48.67|   1019.7|   673.9|[33.605796, -117....|garmin_ping_38134...|  false|            false|g18813048|         true|     false|            false|12765498193|      NULL|          8|         NULL|            NULL|          NULL| false|{a12765498193, 2,...|        121.0|      9.1|     NULL|      48.55|A Super Rare Cond...|          0|       1|  false|             2|  TrailRun|2024-10-28T13:52:05Z|2024-10-28T06:52:05Z|[33.605795, -117....|           138.0|(GMT-08:00) Ameri...|               524.9|                0|  false| Run|13611315173|  13611315173|  -25200.0|  everyone|                  NULL|           0|\n",
      "|                4|{39181721, 1}|            1|           84.8|            133.2|          5.3|        246.1|            0|  false|        true|                         true|     4.5|       51.43|   1021.0|   652.2|[33.6058124061673...|garmin_ping_37951...|  false|            false|g18813048|         true|     false|            false|12709068786|     750.3|          8|         NULL|            NULL|          NULL| false|{a12709068786, 2,...|        146.0|      7.3|      389|       50.8|Ticketron - Cryst...|          0|       0|  false|             2|  TrailRun|2024-10-21T13:55:04Z|2024-10-21T06:55:04Z|[33.6058178544044...|           170.0|(GMT-08:00) Ameri...|               652.9|                0|  false| Run|13550500665|  13550500665|  -25200.0|  everyone|                   252|           0|\n",
      "|                0|{39181721, 1}|            1|           84.3|            134.8|          6.3|        275.9|            0|  false|        true|                         true|    20.0|      194.58|    717.8|   213.9|[33.0666119512170...|garmin_ping_37901...|  false|            false|g18524723|         true|     false|            false|12694585465|    3134.8|          9|         NULL|            NULL|          NULL| false|{a12694585465, 2,...|        160.0|     10.0|      540|     189.28|      RDL Simulation|          0|       0|  false|             2|  TrailRun|2024-10-19T13:30:19Z|2024-10-19T06:30:19Z|[33.0665702931582...|           169.0|(GMT-08:00) Ameri...|              1761.8|                1|  false| Run|13534838327|  13534838327|  -25200.0|  everyone|                   280|           0|\n",
      "|                0|{39181721, 1}|            1|           83.4|            130.0|          5.8|        258.6|            1|  false|        true|                         true|    8.75|       92.92|   1035.4|   148.3|[33.6057367175817...|garmin_ping_37873...|  false|            false|g18813048|         true|     false|            false|12685575342|    1411.8|         11|         NULL|            NULL|          NULL| false|{a12685575342, 2,...|        146.0|      8.6|      445|      90.95|Drone Delivery - ...|          0|       0|  false|             2|  TrailRun|2024-10-18T13:20:31Z|2024-10-18T06:20:31Z|[33.6058129090815...|           167.0|(GMT-08:00) Ameri...|              1371.4|                0|  false| Run|13525161475|  13525161475|  -25200.0|  everyone|                   265|           0|\n",
      "+-----------------+-------------+-------------+---------------+-----------------+-------------+-------------+-------------+-------+------------+-----------------------------+--------+------------+---------+--------+--------------------+--------------------+-------+-----------------+---------+-------------+----------+-----------------+-----------+----------+-----------+-------------+----------------+--------------+------+--------------------+-------------+---------+---------+-----------+--------------------+-----------+--------+-------+--------------+----------+--------------------+--------------------+--------------------+----------------+--------------------+--------------------+-----------------+-------+----+-----------+-------------+----------+----------+----------------------+------------+\n",
      "only showing top 5 rows\n",
      "\n"
     ]
    }
   ],
   "source": [
    "# Only include Run actvities.\n",
    "# In minutes and miles.\n",
    "long_run_condition = (\n",
    "    (col(\"sport_type\") == \"TrailRun\") | (col(\"sport_type\") == \"Run\") & \\\n",
    "    (col(\"elapsed_time\") > 60) & \\\n",
    "    (col(\"distance\") > 10)\n",
    ")\n",
    "\n",
    "filtered_activities = activities.filter(long_run_condition)\n",
    "filtered_activities.show(5)"
   ]
  },
  {
   "cell_type": "code",
   "execution_count": 6,
   "metadata": {},
   "outputs": [],
   "source": [
    "averages = [\"distance\", \"elapsed_time\", \"total_elevation_gain\"]\n",
    "average_metrics = [round(avg(column)).alias(f\"avg_{column}\") for column in averages]\n",
    "long_run_count = count(\"sport_type\").alias(\"number_of_long_runs\")\n",
    "avg_cadence_spm = round(avg(\"steps_per_minute\")).alias(\"avg_cadence_spm\")\n",
    "avg_speed_mph = round(avg(\"average_speed\")).alias(\"avg_speed_mph\")\n",
    "avg_heartrate_bpm = round(avg(\"average_heartrate\")).alias(\"avg_heartrate_bpm\")\n",
    "avg_watts_ftp = round(avg(\"average_watts\")).alias(\"avg_watts_ftp\")\n",
    "\n",
    "agg_expressions = average_metrics + [long_run_count, avg_cadence_spm, avg_speed_mph, avg_heartrate_bpm, avg_watts_ftp]\n"
   ]
  },
  {
   "cell_type": "code",
   "execution_count": 7,
   "metadata": {},
   "outputs": [],
   "source": [
    "aggregated_df = filtered_activities.agg(*agg_expressions)"
   ]
  },
  {
   "cell_type": "code",
   "execution_count": 8,
   "metadata": {},
   "outputs": [
    {
     "name": "stdout",
     "output_type": "stream",
     "text": [
      "+------------+----------------+------------------------+-------------------+---------------+-------------+-----------------+-------------+\n",
      "|avg_distance|avg_elapsed_time|avg_total_elevation_gain|number_of_long_runs|avg_cadence_spm|avg_speed_mph|avg_heartrate_bpm|avg_watts_ftp|\n",
      "+------------+----------------+------------------------+-------------------+---------------+-------------+-----------------+-------------+\n",
      "|        10.0|            98.0|                  1276.0|                396|          172.0|          6.0|            138.0|        289.0|\n",
      "+------------+----------------+------------------------+-------------------+---------------+-------------+-----------------+-------------+\n",
      "\n"
     ]
    }
   ],
   "source": [
    "aggregated_df.show()"
   ]
  },
  {
   "cell_type": "code",
   "execution_count": 51,
   "metadata": {},
   "outputs": [],
   "source": [
    "s3_bucket = f\"s3a://{BUCKET_NAME}/processed/\"\n",
    "file = \"stats.json\"\n",
    "path = s3_bucket + file\n",
    "# Load JSON (or CSV) data from S3 processed folder into a DataFrame\n",
    "# Modify 'json' to your file format (e.g., 'csv', 'parquet', etc.)\n",
    "stats = spark.read.json(path)"
   ]
  },
  {
   "cell_type": "code",
   "execution_count": 52,
   "metadata": {},
   "outputs": [
    {
     "name": "stdout",
     "output_type": "stream",
     "text": [
      "+--------------------+--------------------+--------------------+--------------------+--------------------+--------------------+--------------------+--------------------+--------------------+\n",
      "|     all_ride_totals|      all_run_totals|     all_swim_totals|  recent_ride_totals|   recent_run_totals|  recent_swim_totals|     ytd_ride_totals|      ytd_run_totals|     ytd_swim_totals|\n",
      "+--------------------+--------------------+--------------------+--------------------+--------------------+--------------------+--------------------+--------------------+--------------------+\n",
      "|{0, 0.0, 0:00:00,...|{681, 5334.12, 38...|{0, 0.0, 0:00:00,...|{0, 0, 0.0, 0:00:...|{30, 15, 116.12, ...|{0, 0, 0.0, 0:00:...|{0, 0.0, 0:00:00,...|{314, 2891.25, 19...|{0, 0.0, 0:00:00,...|\n",
      "+--------------------+--------------------+--------------------+--------------------+--------------------+--------------------+--------------------+--------------------+--------------------+\n",
      "\n"
     ]
    }
   ],
   "source": [
    "stats.show()"
   ]
  },
  {
   "cell_type": "code",
   "execution_count": null,
   "metadata": {},
   "outputs": [
    {
     "ename": "FileNotFoundError",
     "evalue": "[WinError 2] The system cannot find the file specified",
     "output_type": "error",
     "traceback": [
      "\u001b[1;31m---------------------------------------------------------------------------\u001b[0m",
      "\u001b[1;31mFileNotFoundError\u001b[0m                         Traceback (most recent call last)",
      "Cell \u001b[1;32mIn[5], line 2\u001b[0m\n\u001b[0;32m      1\u001b[0m \u001b[38;5;66;03m# Step 1: Initialize Spark Session\u001b[39;00m\n\u001b[1;32m----> 2\u001b[0m spark \u001b[38;5;241m=\u001b[39m \u001b[43mSparkSession\u001b[49m\u001b[38;5;241;43m.\u001b[39;49m\u001b[43mbuilder\u001b[49m\u001b[43m \u001b[49m\u001b[43m\\\u001b[49m\n\u001b[0;32m      3\u001b[0m \u001b[43m    \u001b[49m\u001b[38;5;241;43m.\u001b[39;49m\u001b[43mappName\u001b[49m\u001b[43m(\u001b[49m\u001b[38;5;124;43m\"\u001b[39;49m\u001b[38;5;124;43mETL with JSON in PySpark\u001b[39;49m\u001b[38;5;124;43m\"\u001b[39;49m\u001b[43m)\u001b[49m\u001b[43m \u001b[49m\u001b[43m\\\u001b[49m\n\u001b[0;32m      4\u001b[0m \u001b[43m    \u001b[49m\u001b[38;5;241;43m.\u001b[39;49m\u001b[43mgetOrCreate\u001b[49m\u001b[43m(\u001b[49m\u001b[43m)\u001b[49m\n\u001b[0;32m      6\u001b[0m \u001b[38;5;66;03m# Step 2: Extract - Load JSON Files\u001b[39;00m\n\u001b[0;32m      7\u001b[0m input_path \u001b[38;5;241m=\u001b[39m \u001b[38;5;124m\"\u001b[39m\u001b[38;5;124ms3://your-bucket/input/json-files/\u001b[39m\u001b[38;5;124m\"\u001b[39m\n",
      "File \u001b[1;32mc:\\Users\\33716\\AppData\\Local\\pypoetry\\Cache\\virtualenvs\\terraform-o39eShcy-py3.9\\lib\\site-packages\\pyspark\\sql\\session.py:497\u001b[0m, in \u001b[0;36mSparkSession.Builder.getOrCreate\u001b[1;34m(self)\u001b[0m\n\u001b[0;32m    495\u001b[0m     sparkConf\u001b[38;5;241m.\u001b[39mset(key, value)\n\u001b[0;32m    496\u001b[0m \u001b[38;5;66;03m# This SparkContext may be an existing one.\u001b[39;00m\n\u001b[1;32m--> 497\u001b[0m sc \u001b[38;5;241m=\u001b[39m \u001b[43mSparkContext\u001b[49m\u001b[38;5;241;43m.\u001b[39;49m\u001b[43mgetOrCreate\u001b[49m\u001b[43m(\u001b[49m\u001b[43msparkConf\u001b[49m\u001b[43m)\u001b[49m\n\u001b[0;32m    498\u001b[0m \u001b[38;5;66;03m# Do not update `SparkConf` for existing `SparkContext`, as it's shared\u001b[39;00m\n\u001b[0;32m    499\u001b[0m \u001b[38;5;66;03m# by all sessions.\u001b[39;00m\n\u001b[0;32m    500\u001b[0m session \u001b[38;5;241m=\u001b[39m SparkSession(sc, options\u001b[38;5;241m=\u001b[39m\u001b[38;5;28mself\u001b[39m\u001b[38;5;241m.\u001b[39m_options)\n",
      "File \u001b[1;32mc:\\Users\\33716\\AppData\\Local\\pypoetry\\Cache\\virtualenvs\\terraform-o39eShcy-py3.9\\lib\\site-packages\\pyspark\\context.py:515\u001b[0m, in \u001b[0;36mSparkContext.getOrCreate\u001b[1;34m(cls, conf)\u001b[0m\n\u001b[0;32m    513\u001b[0m \u001b[38;5;28;01mwith\u001b[39;00m SparkContext\u001b[38;5;241m.\u001b[39m_lock:\n\u001b[0;32m    514\u001b[0m     \u001b[38;5;28;01mif\u001b[39;00m SparkContext\u001b[38;5;241m.\u001b[39m_active_spark_context \u001b[38;5;129;01mis\u001b[39;00m \u001b[38;5;28;01mNone\u001b[39;00m:\n\u001b[1;32m--> 515\u001b[0m         \u001b[43mSparkContext\u001b[49m\u001b[43m(\u001b[49m\u001b[43mconf\u001b[49m\u001b[38;5;241;43m=\u001b[39;49m\u001b[43mconf\u001b[49m\u001b[43m \u001b[49m\u001b[38;5;129;43;01mor\u001b[39;49;00m\u001b[43m \u001b[49m\u001b[43mSparkConf\u001b[49m\u001b[43m(\u001b[49m\u001b[43m)\u001b[49m\u001b[43m)\u001b[49m\n\u001b[0;32m    516\u001b[0m     \u001b[38;5;28;01massert\u001b[39;00m SparkContext\u001b[38;5;241m.\u001b[39m_active_spark_context \u001b[38;5;129;01mis\u001b[39;00m \u001b[38;5;129;01mnot\u001b[39;00m \u001b[38;5;28;01mNone\u001b[39;00m\n\u001b[0;32m    517\u001b[0m     \u001b[38;5;28;01mreturn\u001b[39;00m SparkContext\u001b[38;5;241m.\u001b[39m_active_spark_context\n",
      "File \u001b[1;32mc:\\Users\\33716\\AppData\\Local\\pypoetry\\Cache\\virtualenvs\\terraform-o39eShcy-py3.9\\lib\\site-packages\\pyspark\\context.py:201\u001b[0m, in \u001b[0;36mSparkContext.__init__\u001b[1;34m(self, master, appName, sparkHome, pyFiles, environment, batchSize, serializer, conf, gateway, jsc, profiler_cls, udf_profiler_cls, memory_profiler_cls)\u001b[0m\n\u001b[0;32m    195\u001b[0m \u001b[38;5;28;01mif\u001b[39;00m gateway \u001b[38;5;129;01mis\u001b[39;00m \u001b[38;5;129;01mnot\u001b[39;00m \u001b[38;5;28;01mNone\u001b[39;00m \u001b[38;5;129;01mand\u001b[39;00m gateway\u001b[38;5;241m.\u001b[39mgateway_parameters\u001b[38;5;241m.\u001b[39mauth_token \u001b[38;5;129;01mis\u001b[39;00m \u001b[38;5;28;01mNone\u001b[39;00m:\n\u001b[0;32m    196\u001b[0m     \u001b[38;5;28;01mraise\u001b[39;00m \u001b[38;5;167;01mValueError\u001b[39;00m(\n\u001b[0;32m    197\u001b[0m         \u001b[38;5;124m\"\u001b[39m\u001b[38;5;124mYou are trying to pass an insecure Py4j gateway to Spark. This\u001b[39m\u001b[38;5;124m\"\u001b[39m\n\u001b[0;32m    198\u001b[0m         \u001b[38;5;124m\"\u001b[39m\u001b[38;5;124m is not allowed as it is a security risk.\u001b[39m\u001b[38;5;124m\"\u001b[39m\n\u001b[0;32m    199\u001b[0m     )\n\u001b[1;32m--> 201\u001b[0m \u001b[43mSparkContext\u001b[49m\u001b[38;5;241;43m.\u001b[39;49m\u001b[43m_ensure_initialized\u001b[49m\u001b[43m(\u001b[49m\u001b[38;5;28;43mself\u001b[39;49m\u001b[43m,\u001b[49m\u001b[43m \u001b[49m\u001b[43mgateway\u001b[49m\u001b[38;5;241;43m=\u001b[39;49m\u001b[43mgateway\u001b[49m\u001b[43m,\u001b[49m\u001b[43m \u001b[49m\u001b[43mconf\u001b[49m\u001b[38;5;241;43m=\u001b[39;49m\u001b[43mconf\u001b[49m\u001b[43m)\u001b[49m\n\u001b[0;32m    202\u001b[0m \u001b[38;5;28;01mtry\u001b[39;00m:\n\u001b[0;32m    203\u001b[0m     \u001b[38;5;28mself\u001b[39m\u001b[38;5;241m.\u001b[39m_do_init(\n\u001b[0;32m    204\u001b[0m         master,\n\u001b[0;32m    205\u001b[0m         appName,\n\u001b[1;32m   (...)\u001b[0m\n\u001b[0;32m    215\u001b[0m         memory_profiler_cls,\n\u001b[0;32m    216\u001b[0m     )\n",
      "File \u001b[1;32mc:\\Users\\33716\\AppData\\Local\\pypoetry\\Cache\\virtualenvs\\terraform-o39eShcy-py3.9\\lib\\site-packages\\pyspark\\context.py:436\u001b[0m, in \u001b[0;36mSparkContext._ensure_initialized\u001b[1;34m(cls, instance, gateway, conf)\u001b[0m\n\u001b[0;32m    434\u001b[0m \u001b[38;5;28;01mwith\u001b[39;00m SparkContext\u001b[38;5;241m.\u001b[39m_lock:\n\u001b[0;32m    435\u001b[0m     \u001b[38;5;28;01mif\u001b[39;00m \u001b[38;5;129;01mnot\u001b[39;00m SparkContext\u001b[38;5;241m.\u001b[39m_gateway:\n\u001b[1;32m--> 436\u001b[0m         SparkContext\u001b[38;5;241m.\u001b[39m_gateway \u001b[38;5;241m=\u001b[39m gateway \u001b[38;5;129;01mor\u001b[39;00m \u001b[43mlaunch_gateway\u001b[49m\u001b[43m(\u001b[49m\u001b[43mconf\u001b[49m\u001b[43m)\u001b[49m\n\u001b[0;32m    437\u001b[0m         SparkContext\u001b[38;5;241m.\u001b[39m_jvm \u001b[38;5;241m=\u001b[39m SparkContext\u001b[38;5;241m.\u001b[39m_gateway\u001b[38;5;241m.\u001b[39mjvm\n\u001b[0;32m    439\u001b[0m     \u001b[38;5;28;01mif\u001b[39;00m instance:\n",
      "File \u001b[1;32mc:\\Users\\33716\\AppData\\Local\\pypoetry\\Cache\\virtualenvs\\terraform-o39eShcy-py3.9\\lib\\site-packages\\pyspark\\java_gateway.py:100\u001b[0m, in \u001b[0;36mlaunch_gateway\u001b[1;34m(conf, popen_kwargs)\u001b[0m\n\u001b[0;32m     97\u001b[0m     proc \u001b[38;5;241m=\u001b[39m Popen(command, \u001b[38;5;241m*\u001b[39m\u001b[38;5;241m*\u001b[39mpopen_kwargs)\n\u001b[0;32m     98\u001b[0m \u001b[38;5;28;01melse\u001b[39;00m:\n\u001b[0;32m     99\u001b[0m     \u001b[38;5;66;03m# preexec_fn not supported on Windows\u001b[39;00m\n\u001b[1;32m--> 100\u001b[0m     proc \u001b[38;5;241m=\u001b[39m Popen(command, \u001b[38;5;241m*\u001b[39m\u001b[38;5;241m*\u001b[39mpopen_kwargs)\n\u001b[0;32m    102\u001b[0m \u001b[38;5;66;03m# Wait for the file to appear, or for the process to exit, whichever happens first.\u001b[39;00m\n\u001b[0;32m    103\u001b[0m \u001b[38;5;28;01mwhile\u001b[39;00m \u001b[38;5;129;01mnot\u001b[39;00m proc\u001b[38;5;241m.\u001b[39mpoll() \u001b[38;5;129;01mand\u001b[39;00m \u001b[38;5;129;01mnot\u001b[39;00m os\u001b[38;5;241m.\u001b[39mpath\u001b[38;5;241m.\u001b[39misfile(conn_info_file):\n",
      "File \u001b[1;32m~\\AppData\\Local\\Programs\\Python\\Python39\\lib\\subprocess.py:951\u001b[0m, in \u001b[0;36mPopen.__init__\u001b[1;34m(self, args, bufsize, executable, stdin, stdout, stderr, preexec_fn, close_fds, shell, cwd, env, universal_newlines, startupinfo, creationflags, restore_signals, start_new_session, pass_fds, user, group, extra_groups, encoding, errors, text, umask)\u001b[0m\n\u001b[0;32m    947\u001b[0m         \u001b[38;5;28;01mif\u001b[39;00m \u001b[38;5;28mself\u001b[39m\u001b[38;5;241m.\u001b[39mtext_mode:\n\u001b[0;32m    948\u001b[0m             \u001b[38;5;28mself\u001b[39m\u001b[38;5;241m.\u001b[39mstderr \u001b[38;5;241m=\u001b[39m io\u001b[38;5;241m.\u001b[39mTextIOWrapper(\u001b[38;5;28mself\u001b[39m\u001b[38;5;241m.\u001b[39mstderr,\n\u001b[0;32m    949\u001b[0m                     encoding\u001b[38;5;241m=\u001b[39mencoding, errors\u001b[38;5;241m=\u001b[39merrors)\n\u001b[1;32m--> 951\u001b[0m     \u001b[38;5;28;43mself\u001b[39;49m\u001b[38;5;241;43m.\u001b[39;49m\u001b[43m_execute_child\u001b[49m\u001b[43m(\u001b[49m\u001b[43margs\u001b[49m\u001b[43m,\u001b[49m\u001b[43m \u001b[49m\u001b[43mexecutable\u001b[49m\u001b[43m,\u001b[49m\u001b[43m \u001b[49m\u001b[43mpreexec_fn\u001b[49m\u001b[43m,\u001b[49m\u001b[43m \u001b[49m\u001b[43mclose_fds\u001b[49m\u001b[43m,\u001b[49m\n\u001b[0;32m    952\u001b[0m \u001b[43m                        \u001b[49m\u001b[43mpass_fds\u001b[49m\u001b[43m,\u001b[49m\u001b[43m \u001b[49m\u001b[43mcwd\u001b[49m\u001b[43m,\u001b[49m\u001b[43m \u001b[49m\u001b[43menv\u001b[49m\u001b[43m,\u001b[49m\n\u001b[0;32m    953\u001b[0m \u001b[43m                        \u001b[49m\u001b[43mstartupinfo\u001b[49m\u001b[43m,\u001b[49m\u001b[43m \u001b[49m\u001b[43mcreationflags\u001b[49m\u001b[43m,\u001b[49m\u001b[43m \u001b[49m\u001b[43mshell\u001b[49m\u001b[43m,\u001b[49m\n\u001b[0;32m    954\u001b[0m \u001b[43m                        \u001b[49m\u001b[43mp2cread\u001b[49m\u001b[43m,\u001b[49m\u001b[43m \u001b[49m\u001b[43mp2cwrite\u001b[49m\u001b[43m,\u001b[49m\n\u001b[0;32m    955\u001b[0m \u001b[43m                        \u001b[49m\u001b[43mc2pread\u001b[49m\u001b[43m,\u001b[49m\u001b[43m \u001b[49m\u001b[43mc2pwrite\u001b[49m\u001b[43m,\u001b[49m\n\u001b[0;32m    956\u001b[0m \u001b[43m                        \u001b[49m\u001b[43merrread\u001b[49m\u001b[43m,\u001b[49m\u001b[43m \u001b[49m\u001b[43merrwrite\u001b[49m\u001b[43m,\u001b[49m\n\u001b[0;32m    957\u001b[0m \u001b[43m                        \u001b[49m\u001b[43mrestore_signals\u001b[49m\u001b[43m,\u001b[49m\n\u001b[0;32m    958\u001b[0m \u001b[43m                        \u001b[49m\u001b[43mgid\u001b[49m\u001b[43m,\u001b[49m\u001b[43m \u001b[49m\u001b[43mgids\u001b[49m\u001b[43m,\u001b[49m\u001b[43m \u001b[49m\u001b[43muid\u001b[49m\u001b[43m,\u001b[49m\u001b[43m \u001b[49m\u001b[43mumask\u001b[49m\u001b[43m,\u001b[49m\n\u001b[0;32m    959\u001b[0m \u001b[43m                        \u001b[49m\u001b[43mstart_new_session\u001b[49m\u001b[43m)\u001b[49m\n\u001b[0;32m    960\u001b[0m \u001b[38;5;28;01mexcept\u001b[39;00m:\n\u001b[0;32m    961\u001b[0m     \u001b[38;5;66;03m# Cleanup if the child failed starting.\u001b[39;00m\n\u001b[0;32m    962\u001b[0m     \u001b[38;5;28;01mfor\u001b[39;00m f \u001b[38;5;129;01min\u001b[39;00m \u001b[38;5;28mfilter\u001b[39m(\u001b[38;5;28;01mNone\u001b[39;00m, (\u001b[38;5;28mself\u001b[39m\u001b[38;5;241m.\u001b[39mstdin, \u001b[38;5;28mself\u001b[39m\u001b[38;5;241m.\u001b[39mstdout, \u001b[38;5;28mself\u001b[39m\u001b[38;5;241m.\u001b[39mstderr)):\n",
      "File \u001b[1;32m~\\AppData\\Local\\Programs\\Python\\Python39\\lib\\subprocess.py:1420\u001b[0m, in \u001b[0;36mPopen._execute_child\u001b[1;34m(self, args, executable, preexec_fn, close_fds, pass_fds, cwd, env, startupinfo, creationflags, shell, p2cread, p2cwrite, c2pread, c2pwrite, errread, errwrite, unused_restore_signals, unused_gid, unused_gids, unused_uid, unused_umask, unused_start_new_session)\u001b[0m\n\u001b[0;32m   1418\u001b[0m \u001b[38;5;66;03m# Start the process\u001b[39;00m\n\u001b[0;32m   1419\u001b[0m \u001b[38;5;28;01mtry\u001b[39;00m:\n\u001b[1;32m-> 1420\u001b[0m     hp, ht, pid, tid \u001b[38;5;241m=\u001b[39m \u001b[43m_winapi\u001b[49m\u001b[38;5;241;43m.\u001b[39;49m\u001b[43mCreateProcess\u001b[49m\u001b[43m(\u001b[49m\u001b[43mexecutable\u001b[49m\u001b[43m,\u001b[49m\u001b[43m \u001b[49m\u001b[43margs\u001b[49m\u001b[43m,\u001b[49m\n\u001b[0;32m   1421\u001b[0m \u001b[43m                             \u001b[49m\u001b[38;5;66;43;03m# no special security\u001b[39;49;00m\n\u001b[0;32m   1422\u001b[0m \u001b[43m                             \u001b[49m\u001b[38;5;28;43;01mNone\u001b[39;49;00m\u001b[43m,\u001b[49m\u001b[43m \u001b[49m\u001b[38;5;28;43;01mNone\u001b[39;49;00m\u001b[43m,\u001b[49m\n\u001b[0;32m   1423\u001b[0m \u001b[43m                             \u001b[49m\u001b[38;5;28;43mint\u001b[39;49m\u001b[43m(\u001b[49m\u001b[38;5;129;43;01mnot\u001b[39;49;00m\u001b[43m \u001b[49m\u001b[43mclose_fds\u001b[49m\u001b[43m)\u001b[49m\u001b[43m,\u001b[49m\n\u001b[0;32m   1424\u001b[0m \u001b[43m                             \u001b[49m\u001b[43mcreationflags\u001b[49m\u001b[43m,\u001b[49m\n\u001b[0;32m   1425\u001b[0m \u001b[43m                             \u001b[49m\u001b[43menv\u001b[49m\u001b[43m,\u001b[49m\n\u001b[0;32m   1426\u001b[0m \u001b[43m                             \u001b[49m\u001b[43mcwd\u001b[49m\u001b[43m,\u001b[49m\n\u001b[0;32m   1427\u001b[0m \u001b[43m                             \u001b[49m\u001b[43mstartupinfo\u001b[49m\u001b[43m)\u001b[49m\n\u001b[0;32m   1428\u001b[0m \u001b[38;5;28;01mfinally\u001b[39;00m:\n\u001b[0;32m   1429\u001b[0m     \u001b[38;5;66;03m# Child is launched. Close the parent's copy of those pipe\u001b[39;00m\n\u001b[0;32m   1430\u001b[0m     \u001b[38;5;66;03m# handles that only the child should have open.  You need\u001b[39;00m\n\u001b[1;32m   (...)\u001b[0m\n\u001b[0;32m   1433\u001b[0m     \u001b[38;5;66;03m# pipe will not close when the child process exits and the\u001b[39;00m\n\u001b[0;32m   1434\u001b[0m     \u001b[38;5;66;03m# ReadFile will hang.\u001b[39;00m\n\u001b[0;32m   1435\u001b[0m     \u001b[38;5;28mself\u001b[39m\u001b[38;5;241m.\u001b[39m_close_pipe_fds(p2cread, p2cwrite,\n\u001b[0;32m   1436\u001b[0m                          c2pread, c2pwrite,\n\u001b[0;32m   1437\u001b[0m                          errread, errwrite)\n",
      "\u001b[1;31mFileNotFoundError\u001b[0m: [WinError 2] The system cannot find the file specified"
     ]
    }
   ],
   "source": [
    "\n",
    "\n",
    "# Step 4: Load - Save Transformed Data\n",
    "output_path = \"s3://your-bucket/output/transformed-data/\"\n",
    "df_aggregated.write.mode(\"overwrite\").parquet(output_path)  # Save as Parquet\n",
    "# Alternatively, save as JSON:\n",
    "# df_aggregated.write.mode(\"overwrite\").json(output_path)\n",
    "\n",
    "# Step 5: Stop Spark Session\n",
    "spark.stop()\n"
   ]
  },
  {
   "cell_type": "code",
   "execution_count": null,
   "metadata": {},
   "outputs": [],
   "source": [
    "with open('data/raw/athlete.json', 'r') as j:\n",
    "    athlete = json.load(j)\n",
    "with open('data/raw/comments.json', 'r') as j:\n",
    "    comments = json.load(j)\n",
    "with open('data/raw/stats.json', 'r') as j:\n",
    "    stats = json.load(j)\n",
    "with open('data/raw/activities.json','r') as j:\n",
    "    activities = json.load(j)\n",
    "\n",
    "athlete = spark.read.option(\"multiLine\", \"true\").option(\"mode\", \"PERMISSIVE\").json(\"data/raw/athlete.json\")\n",
    "stats = spark.read.option(\"multiLine\", \"true\").option(\"mode\", \"PERMISSIVE\").json(\"data/processed/stats.json\")\n",
    "activities = spark.read.option(\"multiLine\", \"true\").option(\"mode\", \"PERMISSIVE\").json(\"data/processed/activities.json\")\n",
    "comments = spark.read.option(\"multiLine\", \"true\").option(\"mode\", \"PERMISSIVE\").json(\"data/raw/comments.json\")"
   ]
  }
 ],
 "metadata": {
  "kernelspec": {
   "display_name": "terraform-o39eShcy-py3.9",
   "language": "python",
   "name": "python3"
  },
  "language_info": {
   "codemirror_mode": {
    "name": "ipython",
    "version": 3
   },
   "file_extension": ".py",
   "mimetype": "text/x-python",
   "name": "python",
   "nbconvert_exporter": "python",
   "pygments_lexer": "ipython3",
   "version": "3.9.12"
  }
 },
 "nbformat": 4,
 "nbformat_minor": 2
}
